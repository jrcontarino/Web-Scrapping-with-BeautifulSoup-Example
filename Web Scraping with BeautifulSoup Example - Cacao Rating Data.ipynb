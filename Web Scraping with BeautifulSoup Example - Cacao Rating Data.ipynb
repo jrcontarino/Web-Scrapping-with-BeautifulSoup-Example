{
 "cells": [
  {
   "cell_type": "markdown",
   "metadata": {},
   "source": [
    "# Web Scraping with BeautifulSoup Cacao Rating Example"
   ]
  },
  {
   "cell_type": "markdown",
   "metadata": {},
   "source": [
    "## Import Packages"
   ]
  },
  {
   "cell_type": "code",
   "execution_count": 2,
   "metadata": {},
   "outputs": [],
   "source": [
    "from bs4 import BeautifulSoup\n",
    "import requests\n",
    "import pandas as pd\n",
    "import matplotlib.pyplot as plt\n",
    "import numpy as np\n",
    "from scipy import stats"
   ]
  },
  {
   "cell_type": "markdown",
   "metadata": {},
   "source": [
    "## Turn Webpage into BeautifulSoup"
   ]
  },
  {
   "cell_type": "code",
   "execution_count": 3,
   "metadata": {},
   "outputs": [],
   "source": [
    "## Get Webpage\n",
    "webpage = requests.get(\"https://s3.amazonaws.com/codecademy-content/courses/beautifulsoup/cacao/index.html\")\n",
    "## Turn it into some BeautifulSoup\n",
    "soup = BeautifulSoup(webpage.content, \"html.parser\")"
   ]
  },
  {
   "cell_type": "markdown",
   "metadata": {},
   "source": [
    "## Analyze Ratings"
   ]
  },
  {
   "cell_type": "markdown",
   "metadata": {},
   "source": [
    "### Preprocess Data"
   ]
  },
  {
   "cell_type": "code",
   "execution_count": 5,
   "metadata": {},
   "outputs": [],
   "source": [
    "## Find all the Ratings from the class Rating\n",
    "tags = soup.find_all(attrs = {\"class\": \"Rating\"})\n",
    "## Create a list of all the Ratings and convert to floats\n",
    "ratings = []\n",
    "for rate in tags[1:]:\n",
    "  #Alternate to tags[1:]\n",
    " # if rate.get_text() == \"Rating\":\n",
    " #   continue\n",
    " # else:\n",
    "    string = rate.get_text()\n",
    "    ratings.append(pd.to_numeric(string))"
   ]
  },
  {
   "cell_type": "markdown",
   "metadata": {},
   "source": [
    "### Stats for Ratings"
   ]
  },
  {
   "cell_type": "code",
   "execution_count": 23,
   "metadata": {},
   "outputs": [
    {
     "name": "stdout",
     "output_type": "stream",
     "text": [
      "Mean Rating 3.185933147632312\n",
      "Rating Standard Deviation 0.47792921002236244\n",
      "Median Rating 3.25\n",
      "Mode Rating ModeResult(mode=array([3.5]), count=array([392]))\n"
     ]
    }
   ],
   "source": [
    "## Mean, St. Dev., Median, and Mode\n",
    "print(\"Mean Rating\", np.mean(ratings))\n",
    "  #3.19\n",
    "print(\"Rating Standard Deviation\", np.std(ratings))\n",
    "  #.48\n",
    "print(\"Median Rating\",np.median(ratings))\n",
    "  #3.25\n",
    "print(\"Mode Rating\", stats.mode(ratings))\n",
    "  #3.5"
   ]
  },
  {
   "cell_type": "markdown",
   "metadata": {},
   "source": [
    "### Histogram of Ratings"
   ]
  },
  {
   "cell_type": "code",
   "execution_count": 7,
   "metadata": {},
   "outputs": [
    {
     "data": {
      "image/png": "[encoded data removed]",
      "text/plain": [
       "<Figure size 432x288 with 1 Axes>"
      ]
     },
     "metadata": {
      "needs_background": "light"
     },
     "output_type": "display_data"
    }
   ],
   "source": [
    "## Histogram of Ratings\n",
    "plt.hist(ratings, range = (1,5), bins = 15)\n",
    "plt.xlabel(\"Rating\")\n",
    "plt.ylabel(\"Count\")\n",
    "plt.title(\"Histogram of Ratings\")\n",
    "plt.show()"
   ]
  },
  {
   "cell_type": "markdown",
   "metadata": {},
   "source": [
    "### Analyze Company Name and Rating Dataframe"
   ]
  },
  {
   "cell_type": "code",
   "execution_count": 9,
   "metadata": {},
   "outputs": [
    {
     "name": "stdout",
     "output_type": "stream",
     "text": [
      "Top Ten Companies with Highest Mean Ratings: \n",
      " Company\n",
      "Tobago Estate (Pralus)                  4.000000\n",
      "Heirloom Cacao Preservation (Zokoko)    3.875000\n",
      "Ocelot                                  3.875000\n",
      "Amedei                                  3.846154\n",
      "Matale                                  3.812500\n",
      "Patric                                  3.791667\n",
      "Idilio (Felchlin)                       3.775000\n",
      "Acalli                                  3.750000\n",
      "Chocola'te                              3.750000\n",
      "Christopher Morel (Felchlin)            3.750000\n",
      "Name: Ratings, dtype: float64\n"
     ]
    }
   ],
   "source": [
    "## Create Company Name and Rating DataFrame\n",
    "comp_tags = soup.select(\".Company\")\n",
    "comp_names = []\n",
    "for comp in comp_tags[1:]:\n",
    "    comp_names.append(comp.get_text())\n",
    "df = pd.DataFrame.from_dict({'Company': comp_names, \"Ratings\": ratings})\n",
    "avg_comp = df.groupby(\"Company\").Ratings.mean()\n",
    "\n",
    "# Top Ten Companies with Highest Mean Ratings\n",
    "print(\"Top Ten Companies with Highest Mean Ratings:\", \"\\n\", avg_comp.nlargest(10))"
   ]
  },
  {
   "cell_type": "markdown",
   "metadata": {},
   "source": [
    "### Cocoa Percentage Analysis"
   ]
  },
  {
   "cell_type": "code",
   "execution_count": 24,
   "metadata": {},
   "outputs": [],
   "source": [
    "## Cocoa Percent Analysis\n",
    "cocoa = soup.select(\".CocoaPercent\")\n",
    "cocoa_percent = []\n",
    "for percent in cocoa[1:]:\n",
    "    string = percent.get_text()\n",
    "    clean = string.replace(\"%\", \"\")\n",
    "    ready = pd.to_numeric(clean)\n",
    "    cocoa_percent.append(ready)\n",
    "df[\"CocoaPercentage\"] = cocoa_percent"
   ]
  },
  {
   "cell_type": "markdown",
   "metadata": {},
   "source": [
    "### Cocoa Percentage Graph"
   ]
  },
  {
   "cell_type": "code",
   "execution_count": 11,
   "metadata": {},
   "outputs": [
    {
     "data": {
      "image/png": "[encoded data removed]",
      "text/plain": [
       "<Figure size 432x288 with 1 Axes>"
      ]
     },
     "metadata": {
      "needs_background": "light"
     },
     "output_type": "display_data"
    }
   ],
   "source": [
    "## Scatterplot of ratings and cocoa percents\n",
    "plt.clf()\n",
    "plt.scatter(df.CocoaPercentage, df.Ratings)\n",
    "plt.title(\"Scatterplot of Ratings vs. Cocoa Percentages\")\n",
    "plt.xlabel(\"Cocoa Percentages\")\n",
    "plt.ylabel(\"Ratings\")\n",
    "z = np.polyfit(df.CocoaPercentage, df.Ratings, 1)\n",
    "line_function = np.poly1d(z)\n",
    "plt.plot(df.CocoaPercentage, line_function(df.CocoaPercentage), \"r--\")\n",
    "plt.show()"
   ]
  },
  {
   "cell_type": "markdown",
   "metadata": {},
   "source": [
    "There is a slightly negative correlation between cocoa percentages and the ratings so that a higher percentage will mean a slightly lower score."
   ]
  },
  {
   "cell_type": "markdown",
   "metadata": {},
   "source": [
    "### Origins Analysis"
   ]
  },
  {
   "cell_type": "code",
   "execution_count": 27,
   "metadata": {},
   "outputs": [
    {
     "name": "stdout",
     "output_type": "stream",
     "text": [
      "Best chocolate bar in the world \n",
      " BarOrigin  Company\n",
      "Chuao      Amedei     5.0\n",
      "Name: Ratings, dtype: float64\n",
      "\n",
      "Top Chocolate Bars and Company \n",
      " BarOrigin                                    Company                \n",
      "Chuao                                        Amedei                     5.000000\n",
      "Toscano Black                                Amedei                     4.166667\n",
      "ABOCFA Coop                                  Georgia Ramon              4.000000\n",
      "Alto Beni, Cru Savage                        Felchlin                   4.000000\n",
      "Asante                                       Scharffen Berger           4.000000\n",
      "Bachelor's Hall E., St. Thomas Parish        Soma                       4.000000\n",
      "Bali, Sukrama Bros. Farm, Melaya, 62hr C     Benoit Nihant              4.000000\n",
      "Bellavista Coop, #225, LR, MC, CG Exclusive  Fresco                     4.000000\n",
      "Brazil                                       L.A. Burdick (Felchlin)    4.000000\n",
      "Cabosse                                      Pierre Marcolini           4.000000\n",
      "Name: Ratings, dtype: float64\n"
     ]
    }
   ],
   "source": [
    "## The Highest Rated Bar Origins\n",
    "origin = soup.select(\".Origin\")\n",
    "bar_origin = []\n",
    "for bar in origin[1:]:\n",
    "  bar_origin.append(bar.get_text())\n",
    "df[\"BarOrigin\"] = bar_origin\n",
    "avg_bar_origin = df.groupby([\"BarOrigin\", \"Company\"]).Ratings.mean()\n",
    "best_bar_in_the_world = avg_bar_origin.nlargest(1)\n",
    "print(\"Best chocolate bar in the world\", \"\\n\", best_bar_in_the_world)\n",
    "print()\n",
    "print(\"Top Chocolate Bars and Company\", \"\\n\", avg_bar_origin.nlargest(10))"
   ]
  },
  {
   "cell_type": "markdown",
   "metadata": {},
   "source": [
    "### Review Date Analysis"
   ]
  },
  {
   "cell_type": "code",
   "execution_count": 13,
   "metadata": {},
   "outputs": [],
   "source": [
    "# Review Date Analysis\n",
    "date = soup.select(\".ReviewDate\")\n",
    "review_date = []\n",
    "for review in date[1:]:\n",
    "    string = review.get_text()\n",
    "    ready = pd.to_numeric(string)\n",
    "    review_date.append(ready)\n",
    "df[\"ReviewDate\"] = review_date"
   ]
  },
  {
   "cell_type": "markdown",
   "metadata": {},
   "source": [
    "### Review Date Graph"
   ]
  },
  {
   "cell_type": "code",
   "execution_count": 14,
   "metadata": {},
   "outputs": [
    {
     "data": {
      "image/png": "[encoded data removed]",
      "text/plain": [
       "<Figure size 432x288 with 1 Axes>"
      ]
     },
     "metadata": {
      "needs_background": "light"
     },
     "output_type": "display_data"
    }
   ],
   "source": [
    "plt.clf()\n",
    "plt.hist(df.ReviewDate)\n",
    "plt.title(\"Histogram of Review Dates\")\n",
    "plt.xlabel(\"Year\")\n",
    "plt.ylabel(\"Count\")\n",
    "plt.show()"
   ]
  },
  {
   "cell_type": "markdown",
   "metadata": {},
   "source": [
    "### Company Location Analysis"
   ]
  },
  {
   "cell_type": "code",
   "execution_count": 15,
   "metadata": {},
   "outputs": [
    {
     "name": "stdout",
     "output_type": "stream",
     "text": [
      "Top Ten Company Locations\n",
      "CompanyLocation\n",
      "Chile          3.750000\n",
      "Amsterdam      3.500000\n",
      "Netherlands    3.500000\n",
      "Philippines    3.500000\n",
      "Iceland        3.416667\n",
      "Vietnam        3.409091\n",
      "Brazil         3.397059\n",
      "Poland         3.375000\n",
      "Australia      3.357143\n",
      "Guatemala      3.350000\n",
      "Name: Ratings, dtype: float64\n"
     ]
    }
   ],
   "source": [
    "##Company Location Analysis\n",
    "location = soup.select(\".CompanyLocation\")\n",
    "company_location = []\n",
    "for comp in location[1:]:\n",
    "  company_location.append(comp.get_text())\n",
    "df[\"CompanyLocation\"]= company_location\n",
    "avg_comp_location = df.groupby(\"CompanyLocation\").Ratings.mean()\n",
    "print(\"Top Ten Company Locations\")\n",
    "print(avg_comp_location.nlargest(10))"
   ]
  },
  {
   "cell_type": "markdown",
   "metadata": {},
   "source": [
    "### Bean Type Analysis"
   ]
  },
  {
   "cell_type": "code",
   "execution_count": 16,
   "metadata": {},
   "outputs": [
    {
     "name": "stdout",
     "output_type": "stream",
     "text": [
      "Top Ten Bean Types\n",
      "BeanType\n",
      "                            4.000\n",
      "Criollo (Ocumare 67)        4.000\n",
      "Criollo (Wild)              4.000\n",
      "Trinitario (85% Criollo)    3.875\n",
      "Amazon mix                  3.750\n",
      "Blend-Forastero,Criollo     3.750\n",
      "Criollo (Ocumare 77)        3.750\n",
      "Forastero (Amelonado)       3.750\n",
      "Trinitario, Nacional        3.750\n",
      "Trinitario, TCGA            3.750\n",
      "Name: Ratings, dtype: float64\n"
     ]
    }
   ],
   "source": [
    "# Bean Type Analysis\n",
    "bean_ty = soup.select(\".BeanType\")\n",
    "bean_type = []\n",
    "for bean in bean_ty[1:]:\n",
    "  bean_type.append(bean.get_text())\n",
    "df[\"BeanType\"] = bean_type\n",
    "avg_bean_type = df.groupby(\"BeanType\").Ratings.mean()\n",
    "print(\"Top Ten Bean Types\")\n",
    "print(avg_bean_type.nlargest(10))"
   ]
  },
  {
   "cell_type": "markdown",
   "metadata": {},
   "source": [
    "### Broad Bean Origin Analysis"
   ]
  },
  {
   "cell_type": "code",
   "execution_count": 17,
   "metadata": {},
   "outputs": [
    {
     "name": "stdout",
     "output_type": "stream",
     "text": [
      "Top Ten Broad Bean Origins\n",
      "BroadBeanOrigin\n",
      "Dom. Rep., Madagascar           4.00\n",
      "Gre., PNG, Haw., Haiti, Mad     4.00\n",
      "Guat., D.R., Peru, Mad., PNG    4.00\n",
      "Peru, Dom. Rep                  4.00\n",
      "Ven, Bolivia, D.R.              4.00\n",
      "Venezuela, Java                 4.00\n",
      "DR, Ecuador, Peru               3.75\n",
      "Dominican Rep., Bali            3.75\n",
      "PNG, Vanuatu, Mad               3.75\n",
      "Peru, Belize                    3.75\n",
      "Name: Ratings, dtype: float64\n"
     ]
    }
   ],
   "source": [
    "# Broad Bean Origin Analysis\n",
    "broad_bean_origin = soup.select(\".BroadBeanOrigin\")\n",
    "broad_origin = []\n",
    "for bean in broad_bean_origin[1:]:\n",
    "  broad_origin.append(bean.get_text())\n",
    "df[\"BroadBeanOrigin\"] = broad_origin\n",
    "avg_broad_origin = df.groupby(\"BroadBeanOrigin\").Ratings.mean()\n",
    "best_broad_origins = avg_broad_origin.nlargest(10)\n",
    "print(\"Top Ten Broad Bean Origins\")\n",
    "print(best_broad_origins)"
   ]
  },
  {
   "cell_type": "markdown",
   "metadata": {},
   "source": [
    "## Find the Best Dark Chocolate Bar"
   ]
  },
  {
   "cell_type": "markdown",
   "metadata": {},
   "source": [
    "Dark chocolate is known to be the best chocolate for your health.  Let's try to find the highest rated dark chocolate.  Dark chocolate is usually classified by a percentage of 70% or above."
   ]
  },
  {
   "cell_type": "code",
   "execution_count": 30,
   "metadata": {},
   "outputs": [
    {
     "name": "stdout",
     "output_type": "stream",
     "text": [
      "Best Dark Chocolate Bar in the World \n",
      " BarOrigin  Company\n",
      "Chuao      Amedei     5.0\n",
      "Name: Ratings, dtype: float64\n",
      "\n",
      "Top Ten Best Dark Chocolate Bars in the World \n",
      " BarOrigin                                    Company                \n",
      "Chuao                                        Amedei                     5.0\n",
      "Toscano Black                                Amedei                     5.0\n",
      "ABOCFA Coop                                  Georgia Ramon              4.0\n",
      "Bachelor's Hall E., St. Thomas Parish        Soma                       4.0\n",
      "Bali, Sukrama Bros. Farm, Melaya, 62hr C     Benoit Nihant              4.0\n",
      "Bellavista Coop, #225, LR, MC, CG Exclusive  Fresco                     4.0\n",
      "Brazil                                       L.A. Burdick (Felchlin)    4.0\n",
      "Cabosse                                      Pierre Marcolini           4.0\n",
      "Camino Verde                                 Smooth Chocolator, The     4.0\n",
      "Carenero Superior, Urrutia, Barlovento       Idilio (Felchlin)          4.0\n",
      "Name: Ratings, dtype: float64\n"
     ]
    }
   ],
   "source": [
    "## Get a dataframe of only dark chocolates\n",
    "dark = df.loc[(df['CocoaPercentage'] >= 70.0)]\n",
    "#print(dark)\n",
    "\n",
    "## Find the highest rated dark chocolates\n",
    "dark_avg_bar_origin = dark.groupby([\"BarOrigin\", \"Company\"]).Ratings.mean()\n",
    "best_dark_bar_in_the_world = dark_avg_bar_origin.nlargest(1)\n",
    "print(\"Best Dark Chocolate Bar in the World\", \"\\n\", best_dark_bar_in_the_world)\n",
    "print()\n",
    "best_dark_bars_in_the_world = dark_avg_bar_origin.nlargest(10)\n",
    "print(\"Top Ten Best Dark Chocolate Bars in the World\", \"\\n\",best_dark_bars_in_the_world )"
   ]
  }
 ],
 "metadata": {
  "kernelspec": {
   "display_name": "Python 3",
   "language": "python",
   "name": "python3"
  },
  "language_info": {
   "codemirror_mode": {
    "name": "ipython",
    "version": 3
   },
   "file_extension": ".py",
   "mimetype": "text/x-python",
   "name": "python",
   "nbconvert_exporter": "python",
   "pygments_lexer": "ipython3",
   "version": "3.7.6"
  }
 },
 "nbformat": 4,
 "nbformat_minor": 4
}
